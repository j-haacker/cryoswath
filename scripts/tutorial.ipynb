{
 "cells": [
  {
   "cell_type": "markdown",
   "metadata": {
    "editable": true,
    "slideshow": {
     "slide_type": "slide"
    },
    "tags": []
   },
   "source": [
    "# Tutorial\n",
    "\n",
    "cryoswath: python package, offering tools to swath process CryoSat-2 data.\n",
    "\n",
    "**Scope:**  \n",
    "\n",
    "Focused on mountain glaciers, where POCA fails.\n",
    "Mainly users should eventually be able to calculate gridded dh/dt."
   ]
  },
  {
   "cell_type": "code",
   "execution_count": null,
   "metadata": {},
   "outputs": [],
   "source": [
    "# make the package available/from search path\n",
    "import sys\n",
    "sys.path.insert(0, \"..\")"
   ]
  },
  {
   "cell_type": "markdown",
   "metadata": {},
   "source": [
    "## tl;dr\n",
    "\n",
    "### jump to gridded product\n",
    "\n",
    "To obtain gridded aggregates of point elevation estimates, first make\n",
    "sure the dependencies are available. If you haven't done so, install the\n",
    "packages listed in [`../requirements.txt`](../requirements.txt), and\n",
    "download\n",
    "[ArcticDEM mosaic at 100 m](https://data.pgc.umn.edu/elev/dem/setsm/ArcticDEM/mosaic/v4.1/100m/arcticdem_mosaic_100m_v4.1.tar.gz)\n",
    "and extract the `*_dem.tif` to `../data/auxiliary/DEM/`. Then run the\n",
    "following:\n",
    "\n",
    "(The L1b data of ground tracks in the proximity of your region of\n",
    "interest will be downloaded, processed, stored, aggregated, and finally\n",
    "the product will be saved to disk)."
   ]
  },
  {
   "cell_type": "code",
   "execution_count": null,
   "metadata": {},
   "outputs": [],
   "source": [
    "import cryoswath\n",
    "# cryoswath.l3.build_dataset(region_of_interest=\"09-02\", # any RGI o2region\n",
    "#                            start_datetime=\"2014-07\", # like yyyy-mm-dd with optional month and day\n",
    "#                            end_datetime=\"2023-10\",\n",
    "#                         #    timestep_months = 1,\n",
    "#                         #    window_ntimesteps = 3,\n",
    "#                         #    spatial_res_meter=500,\n",
    "#                            )"
   ]
  },
  {
   "cell_type": "markdown",
   "metadata": {},
   "source": [
    "However, a best-practice is to first download the l1b data, then process\n",
    "them to l2, and finally build the L3 dataset providing a dask cluster.\n",
    "This is because the routines work more efficiently this way."
   ]
  },
  {
   "cell_type": "markdown",
   "metadata": {},
   "source": [
    "### download all L1b for your project\n",
    "\n",
    "There is a wrapper to download all available L1b data for a certain\n",
    "period and region. Say, you are interested in the changes on the West\n",
    "Antartic Peninsula. The below will find the tracks passing over or close\n",
    "by the region for the entire observational period and then download them\n",
    "to data/auxiliary/L1b/<year>/<month> (specified in cryoswath.misc).  \n",
    "(*You have to have the RGI files available if you pass a region code.\n",
    "Alternatively, pass a polygon in EPSG:4326.*)"
   ]
  },
  {
   "cell_type": "code",
   "execution_count": null,
   "metadata": {},
   "outputs": [],
   "source": [
    "from cryoswath import l1b"
   ]
  },
  {
   "cell_type": "code",
   "execution_count": null,
   "metadata": {},
   "outputs": [],
   "source": [
    "# l1b.download_files(region_of_interest=\"19-20\", # the region's RGI o2 code. o1 or glacier ids also work\n",
    "#                    start_datetime=\"2010\",\n",
    "#                    end_datetime=\"2025\",\n",
    "#                    buffer_region_by=10_000, # also consider tracks in the proximity of 10 km\n",
    "#                    )"
   ]
  },
  {
   "cell_type": "markdown",
   "metadata": {},
   "source": [
    "Mind that L1b files are archived after some time (years). When they are,\n",
    "their name changes. This can lead to confusion, when repeating steps as\n",
    "downloading or processing."
   ]
  },
  {
   "cell_type": "markdown",
   "metadata": {},
   "source": [
    "## step-by-step\n",
    "\n",
    "The step-by-step guide is work in progress. Feel free to have a sneak-peak into the\n",
    "\n",
    "If you haven't done so, install the\n",
    "packages listed in [`../requirements.txt`](../requirements.txt), and\n",
    "download\n",
    "[ArcticDEM mosaic at 100 m](https://data.pgc.umn.edu/elev/dem/setsm/ArcticDEM/mosaic/v4.1/100m/arcticdem_mosaic_100m_v4.1.tar.gz)\n",
    "and extract the `*_dem.tif` to `../data/auxiliary/DEM/`. Further, you'll\n",
    "probably need to download the RGI data (you'll be prompted) and you may\n",
    "need to convert the esri files to feather (you can use the helper\n",
    "function in module gis).\n",
    "\n",
    "If you have custom demands, you may be interested to understand how you\n",
    "can use the tools as you need them. Below, I will introduce some handy\n",
    "once."
   ]
  },
  {
   "cell_type": "markdown",
   "metadata": {
    "editable": true,
    "slideshow": {
     "slide_type": "slide"
    },
    "tags": []
   },
   "source": [
    "Lets get a list of CryoSat-2 overpasses for the Alps:"
   ]
  },
  {
   "cell_type": "code",
   "execution_count": null,
   "metadata": {
    "editable": true,
    "slideshow": {
     "slide_type": "fragment"
    },
    "tags": []
   },
   "outputs": [],
   "source": [
    "from cryoswath.misc import *\n",
    "from cryoswath import gis, l1b, l2, l3\n",
    "import os\n",
    "import geopandas as gpd"
   ]
  },
  {
   "cell_type": "code",
   "execution_count": null,
   "metadata": {
    "slideshow": {
     "slide_type": "fragment"
    }
   },
   "outputs": [],
   "source": [
    "o2_code = \"11-01\"\n",
    "Alps_glaciers = load_o2region(o2_code)\n",
    "all_cs_tracks = load_cs_ground_tracks()"
   ]
  },
  {
   "cell_type": "code",
   "execution_count": null,
   "metadata": {},
   "outputs": [],
   "source": [
    "basin_rgi_id = find_region_id((75.85, 64.983333), scope=\"basin\")"
   ]
  },
  {
   "cell_type": "code",
   "execution_count": null,
   "metadata": {},
   "outputs": [],
   "source": [
    "basin_outlines = load_basins([basin_rgi_id]).unary_union"
   ]
  },
  {
   "cell_type": "code",
   "execution_count": null,
   "metadata": {
    "slideshow": {
     "slide_type": "fragment"
    }
   },
   "outputs": [],
   "source": [
    "example_tracks = all_cs_tracks[all_cs_tracks.intersects(\n",
    "    gis.buffer_4326_shp(basin_outlines, 10_000))]\n",
    "print(\"number of tracks:\", example_tracks.shape[0], \"\\n last five:\", example_tracks.tail(5))"
   ]
  },
  {
   "cell_type": "code",
   "execution_count": null,
   "metadata": {},
   "outputs": [],
   "source": [
    "l1b_data = l1b.l1b_data.from_id(cs_time_to_id(example_tracks.iloc[0].name), drop_non_glacier_areas=False)"
   ]
  },
  {
   "cell_type": "code",
   "execution_count": null,
   "metadata": {},
   "outputs": [],
   "source": [
    "import cryoswath.test_plots.waveform"
   ]
  },
  {
   "cell_type": "code",
   "execution_count": null,
   "metadata": {},
   "outputs": [],
   "source": [
    "cryoswath.test_plots.waveform.coherence(l1b_data.isel(time_20_ku=[200]))"
   ]
  },
  {
   "cell_type": "code",
   "execution_count": null,
   "metadata": {},
   "outputs": [],
   "source": [
    "cryoswath.test_plots.waveform.power(l1b_data.isel(time_20_ku=[200]))"
   ]
  },
  {
   "cell_type": "code",
   "execution_count": null,
   "metadata": {},
   "outputs": [],
   "source": [
    "# trigger complete processing\n",
    "l1b_data = l1b_data.append_best_fit_phase_index()"
   ]
  },
  {
   "cell_type": "code",
   "execution_count": null,
   "metadata": {},
   "outputs": [],
   "source": [
    "cryoswath.test_plots.waveform.dem_transect(l1b_data.isel(time_20_ku=[200]))"
   ]
  },
  {
   "cell_type": "markdown",
   "metadata": {},
   "source": [
    "It seems the range window was not aligned well. There is nothing you can\n",
    "do about it. Choose another example."
   ]
  }
 ],
 "metadata": {
  "kernelspec": {
   "display_name": "Python 3 (ipykernel)",
   "language": "python",
   "name": "python3"
  },
  "language_info": {
   "codemirror_mode": {
    "name": "ipython",
    "version": 3
   },
   "file_extension": ".py",
   "mimetype": "text/x-python",
   "name": "python",
   "nbconvert_exporter": "python",
   "pygments_lexer": "ipython3",
   "version": "3.10.12"
  }
 },
 "nbformat": 4,
 "nbformat_minor": 4
}
