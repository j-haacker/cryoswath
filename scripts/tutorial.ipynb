{
 "cells": [
  {
   "cell_type": "markdown",
   "metadata": {
    "editable": true,
    "slideshow": {
     "slide_type": "slide"
    },
    "tags": []
   },
   "source": [
    "# Tutorial\n",
    "\n",
    "cryoswath: python package, offering tools to swath process CryoSat-2 data.\n",
    "\n",
    "**Scope:**  \n",
    "\n",
    "Focused on mountain glaciers, where POCA fails.\n",
    "Mainly users should eventually be able to calculate gridded dh/dt."
   ]
  },
  {
   "cell_type": "code",
   "execution_count": 1,
   "metadata": {},
   "outputs": [],
   "source": [
    "# make the package available/from search path\n",
    "import sys\n",
    "sys.path.insert(0, \"..\")"
   ]
  },
  {
   "cell_type": "markdown",
   "metadata": {},
   "source": [
    "## tl;dr\n",
    "\n",
    "To obtain gridded aggregates of point elevation estimates, first make\n",
    "sure the dependencies are available. If you haven't done so, install the\n",
    "packages listed in [`../requirements.txt`](../requirements.txt), and\n",
    "download\n",
    "[ArcticDEM mosaic at 100 m](https://data.pgc.umn.edu/elev/dem/setsm/ArcticDEM/mosaic/v4.1/100m/arcticdem_mosaic_100m_v4.1.tar.gz)\n",
    "and extract the `*_dem.tif` to `../data/auxiliary/DEM/`. Then run the\n",
    "following:\n",
    "\n",
    "(The L1b data of ground tracks in the proximity of your region of\n",
    "interest will be downloaded, processed, stored, aggregated, and finally\n",
    "the product will be saved to disk)."
   ]
  },
  {
   "cell_type": "code",
   "execution_count": 2,
   "metadata": {},
   "outputs": [
    {
     "name": "stderr",
     "output_type": "stream",
     "text": [
      "/home/jan/Software/anaconda3/envs/cryoswath/lib/python3.10/abc.py:106: FutureWarning: xarray subclass l1b_data should explicitly define __slots__\n",
      "  cls = super().__new__(mcls, name, bases, namespace, **kwargs)\n",
      "/home/jan/Software/anaconda3/envs/cryoswath/lib/python3.10/abc.py:106: FutureWarning: xarray subclass l3_data should explicitly define __slots__\n",
      "  cls = super().__new__(mcls, name, bases, namespace, **kwargs)\n"
     ]
    }
   ],
   "source": [
    "import cryoswath\n",
    "# cryoswath.l3.build_dataset(region_of_interest=\"09-02\", # any RGI o2region\n",
    "#                            start_datetime=\"2014-07\", # like yyyy-mm-dd with optional month and day\n",
    "#                            end_datetime=\"2023-10\",\n",
    "#                         #    agg_time=pandas.DateOffset(months=3), # months pandas offset. if required load pandas\n",
    "#                         #    timestep=pandas.DateOffset(months=1),\n",
    "#                         #    spatial_res_meter=500, # in meter\n",
    "#                            )"
   ]
  },
  {
   "cell_type": "markdown",
   "metadata": {},
   "source": [
    "## Step-by-step\n",
    "\n",
    "The step-by-step guide is work in progress. Feel free to have a sneak-peak into the\n",
    "\n",
    "If you haven't done so, install the\n",
    "packages listed in [`../requirements.txt`](../requirements.txt), and\n",
    "download\n",
    "[ArcticDEM mosaic at 100 m](https://data.pgc.umn.edu/elev/dem/setsm/ArcticDEM/mosaic/v4.1/100m/arcticdem_mosaic_100m_v4.1.tar.gz)\n",
    "and extract the `*_dem.tif` to `../data/auxiliary/DEM/`. Further, you'll\n",
    "probably need to download the RGI data (you'll be prompted) and you may\n",
    "need to convert the esri files to feather (you can use the helper\n",
    "function in module gis).\n",
    "\n",
    "If you have custom demands, you may be interested to understand how you\n",
    "can use the tools as you need them. Below, I will introduce some handy\n",
    "once."
   ]
  },
  {
   "cell_type": "markdown",
   "metadata": {
    "editable": true,
    "slideshow": {
     "slide_type": "slide"
    },
    "tags": []
   },
   "source": [
    "Lets get a list of CryoSat-2 overpasses for the Alps:"
   ]
  },
  {
   "cell_type": "code",
   "execution_count": 3,
   "metadata": {
    "editable": true,
    "slideshow": {
     "slide_type": "fragment"
    },
    "tags": []
   },
   "outputs": [],
   "source": [
    "from cryoswath.misc import *\n",
    "from cryoswath import gis, l1b, l2, l3\n",
    "import os\n",
    "import geopandas as gpd"
   ]
  },
  {
   "cell_type": "code",
   "execution_count": 4,
   "metadata": {
    "slideshow": {
     "slide_type": "fragment"
    }
   },
   "outputs": [],
   "source": [
    "o2_code = \"11-01\"\n",
    "Alps_glaciers = load_o2region(o2_code)\n",
    "all_cs_tracks = gis.load_cs_ground_tracks()"
   ]
  },
  {
   "cell_type": "code",
   "execution_count": 5,
   "metadata": {},
   "outputs": [],
   "source": [
    "basin_rgi_id = find_region_id((75.85, 64.983333), scope=\"basin\")"
   ]
  },
  {
   "cell_type": "code",
   "execution_count": 6,
   "metadata": {},
   "outputs": [],
   "source": [
    "basin_outlines = load_basins([basin_rgi_id]).unary_union"
   ]
  },
  {
   "cell_type": "code",
   "execution_count": 7,
   "metadata": {
    "slideshow": {
     "slide_type": "fragment"
    }
   },
   "outputs": [
    {
     "name": "stdout",
     "output_type": "stream",
     "text": [
      "number of tracks: 571 \n",
      " last five:                                                               geometry\n",
      "index                                                                 \n",
      "2023-11-28 07:15:54  LINESTRING (64.81514 76.76291, 64.02495 75.63080)\n",
      "2023-12-05 17:46:46  LINESTRING (65.01878 75.62963, 64.38877 76.54595)\n",
      "2023-12-21 06:04:25  LINESTRING (65.75926 76.95265, 64.88248 75.71800)\n",
      "2023-12-23 06:02:35  LINESTRING (64.54854 76.68681, 63.77009 75.55984)\n",
      "2023-12-30 16:33:25  LINESTRING (64.91017 75.48848, 64.29511 76.40079)\n"
     ]
    }
   ],
   "source": [
    "example_tracks = all_cs_tracks[all_cs_tracks.intersects(\n",
    "    gis.buffer_4326_shp(basin_outlines, 10_000))]\n",
    "print(\"number of tracks:\", example_tracks.shape[0], \"\\n last five:\", example_tracks.tail(5))"
   ]
  },
  {
   "cell_type": "code",
   "execution_count": 8,
   "metadata": {},
   "outputs": [
    {
     "name": "stdout",
     "output_type": "stream",
     "text": [
      "<frame at 0x7f55453d9440, file '/home/jan/Documents/PhD/projects/2023__cryoswath/scripts/../cryoswath/l1b.py', line 319, code build_flag_mask>\n",
      "<frame at 0x7f5545398040, file '/home/jan/Documents/PhD/projects/2023__cryoswath/scripts/../cryoswath/l1b.py', line 423, code drop_waveform>\n"
     ]
    }
   ],
   "source": [
    "l1b_data = l1b.l1b_data.from_id(cs_time_to_id(example_tracks.iloc[0].name), drop_non_glacier_areas=False)"
   ]
  },
  {
   "cell_type": "code",
   "execution_count": 9,
   "metadata": {},
   "outputs": [
    {
     "name": "stdout",
     "output_type": "stream",
     "text": [
      "<frame at 0x7f5545398ba0, file '/home/jan/Documents/PhD/projects/2023__cryoswath/scripts/../cryoswath/l1b.py', line 170, code append_elev_diff_to_ref>\n",
      "<frame at 0x7f55453da640, file '/home/jan/Documents/PhD/projects/2023__cryoswath/scripts/../cryoswath/l1b.py', line 116, code append_ambiguous_reference_elevation>\n",
      "<frame at 0x56251c41dd70, file '/home/jan/Documents/PhD/projects/2023__cryoswath/scripts/../cryoswath/l1b.py', line 237, code locate_ambiguous_origin>\n",
      "Note: Default thresholds applied.\n",
      "Note: Default thresholds applied.\n"
     ]
    },
    {
     "name": "stderr",
     "output_type": "stream",
     "text": [
      "/home/jan/Software/anaconda3/envs/cryoswath/lib/python3.10/site-packages/xarray/core/computation.py:808: RuntimeWarning: divide by zero encountered in log10\n",
      "  result_data = func(*input_data)\n",
      "/home/jan/Software/anaconda3/envs/cryoswath/lib/python3.10/site-packages/xarray/core/computation.py:808: RuntimeWarning: divide by zero encountered in log10\n",
      "  result_data = func(*input_data)\n"
     ]
    }
   ],
   "source": [
    "# trigger complete processing\n",
    "l1b_data = l1b_data.append_best_fit_phase_index()"
   ]
  },
  {
   "cell_type": "code",
   "execution_count": 10,
   "metadata": {},
   "outputs": [],
   "source": [
    "import cryoswath.test_plots.waveform"
   ]
  },
  {
   "cell_type": "code",
   "execution_count": 11,
   "metadata": {},
   "outputs": [
    {
     "data": {
      "text/plain": [
       "<Axes: >"
      ]
     },
     "execution_count": 11,
     "metadata": {},
     "output_type": "execute_result"
    },
    {
     "data": {
      "image/png": "[encoded data removed]",
      "text/plain": [
       "<Figure size 640x480 with 1 Axes>"
      ]
     },
     "metadata": {},
     "output_type": "display_data"
    }
   ],
   "source": [
    "cryoswath.test_plots.waveform.dem_transect(l1b_data.isel(time_20_ku=200))"
   ]
  },
  {
   "cell_type": "markdown",
   "metadata": {},
   "source": [
    "It seems the range window was not aligned well. There is nothing you can\n",
    "do about it. Choose another example."
   ]
  }
 ],
 "metadata": {
  "kernelspec": {
   "display_name": "Python 3 (ipykernel)",
   "language": "python",
   "name": "python3"
  },
  "language_info": {
   "codemirror_mode": {
    "name": "ipython",
    "version": 3
   },
   "file_extension": ".py",
   "mimetype": "text/x-python",
   "name": "python",
   "nbconvert_exporter": "python",
   "pygments_lexer": "ipython3",
   "version": "3.10.12"
  }
 },
 "nbformat": 4,
 "nbformat_minor": 4
}
