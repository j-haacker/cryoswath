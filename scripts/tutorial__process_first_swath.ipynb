{
 "cells": [
  {
   "cell_type": "markdown",
   "metadata": {
    "editable": true,
    "slideshow": {
     "slide_type": "slide"
    },
    "tags": []
   },
   "source": [
    "# Process first swath tutorial\n",
    "\n",
    "This tutorial shows you, how to process and view elevation estimates of\n",
    "a specific track. Note: cryoswath will not require you to do so. It\n",
    "is designed to allow building higher level products without\n",
    "augmentation. However, whenever you encounter features that seem to be\n",
    "artificial, viewing the base data may help to understand what you see."
   ]
  },
  {
   "cell_type": "code",
   "execution_count": 1,
   "metadata": {},
   "outputs": [],
   "source": [
    "# make the package available/from search path\n",
    "import sys\n",
    "sys.path.insert(0, \"..\")"
   ]
  },
  {
   "cell_type": "code",
   "execution_count": 2,
   "metadata": {
    "editable": true,
    "slideshow": {
     "slide_type": "fragment"
    },
    "tags": []
   },
   "outputs": [
    {
     "name": "stderr",
     "output_type": "stream",
     "text": [
      "<frozen abc>:106: FutureWarning: xarray subclass L1bData should explicitly define __slots__\n"
     ]
    }
   ],
   "source": [
    "import matplotlib.pyplot as plt\n",
    "import shapely\n",
    "from cryoswath import misc, l2"
   ]
  },
  {
   "cell_type": "markdown",
   "metadata": {
    "editable": true,
    "slideshow": {
     "slide_type": "slide"
    },
    "tags": []
   },
   "source": [
    "Think of your favorite glacier and enter its lat, lon coordinates below.\n",
    "Mind that you need to have a reference elevation model for the glacier -\n",
    "so choose one that is covered.  \n",
    "\n",
    "The code below will find the glaciers RGI identifier, load its outlines,\n",
    "and than load all tracks within a 5 km radius.\n",
    "\n",
    "In the example, I chose a point on Barnes Ice Cap."
   ]
  },
  {
   "cell_type": "code",
   "execution_count": 3,
   "metadata": {},
   "outputs": [],
   "source": [
    "lat_lon_tuple = (70.2, -73.5)\n",
    "basin_rgi_id = misc.find_region_id(lat_lon_tuple, scope=\"basin\")"
   ]
  },
  {
   "cell_type": "code",
   "execution_count": 4,
   "metadata": {},
   "outputs": [
    {
     "name": "stderr",
     "output_type": "stream",
     "text": [
      "/tmp/ipykernel_142892/2610810992.py:1: DeprecationWarning: The 'unary_union' attribute is deprecated, use the 'union_all()' method instead.\n",
      "  basin_outlines = misc.load_basins([basin_rgi_id]).unary_union\n"
     ]
    }
   ],
   "source": [
    "basin_outlines = misc.load_basins([basin_rgi_id]).unary_union"
   ]
  },
  {
   "cell_type": "code",
   "execution_count": 5,
   "metadata": {
    "slideshow": {
     "slide_type": "fragment"
    }
   },
   "outputs": [
    {
     "name": "stdout",
     "output_type": "stream",
     "text": [
      "number of tracks: 481 \n",
      " last five:                                                               geometry\n",
      "index                                                                 \n",
      "2024-03-27 10:20:50  LINESTRING (-72.99846 72.39527, -75.93227 63.5...\n",
      "2024-04-15 20:35:26  LINESTRING (-71.3213 62.41062, -74.92085 73.22...\n",
      "2024-04-19 09:09:23  LINESTRING (-72.20882 72.3474, -75.11424 63.5472)\n",
      "2024-04-21 09:07:26  LINESTRING (-73.15605 72.48043, -75.286 66.65353)\n",
      "2024-05-08 19:23:55  LINESTRING (-70.45636 62.13489, -73.77609 72.5...\n"
     ]
    }
   ],
   "source": [
    "example_tracks = misc.load_cs_ground_tracks(basin_outlines, buffer_region_by=5_000)\n",
    "print(\"number of tracks:\", example_tracks.shape[0], \"\\n last five:\", example_tracks.tail(5))"
   ]
  },
  {
   "cell_type": "markdown",
   "metadata": {},
   "source": [
    "In the following, the latest track is loaded and processed."
   ]
  },
  {
   "cell_type": "code",
   "execution_count": 6,
   "metadata": {},
   "outputs": [
    {
     "name": "stdout",
     "output_type": "stream",
     "text": [
      "[note] You can speed up processing substantially by previously downloading the L1b data.\n",
      "start processing 2024-05-01 00:00:00\n",
      "getting 2024-05-08 19:23:55\n"
     ]
    },
    {
     "name": "stderr",
     "output_type": "stream",
     "text": [
      "/home/jan/Documents/PhD/projects/2023__cryoswath/scripts/../cryoswath/misc.py:909: UserWarning: Dropping 5600 glaciers < 1 km² from RGI o1 region.\n",
      "  warnings.warn(f\"Dropping {sum(small_glacier_mask)} glaciers < 1 km² from RGI o1 region.\")\n",
      "/home/jan/Documents/PhD/projects/2023__cryoswath/scripts/../cryoswath/misc.py:909: UserWarning: Dropping 5600 glaciers < 1 km² from RGI o1 region.\n",
      "  warnings.warn(f\"Dropping {sum(small_glacier_mask)} glaciers < 1 km² from RGI o1 region.\")\n",
      "/home/jan/Documents/PhD/projects/2023__cryoswath/scripts/../cryoswath/misc.py:909: UserWarning: Dropping 5600 glaciers < 1 km² from RGI o1 region.\n",
      "  warnings.warn(f\"Dropping {sum(small_glacier_mask)} glaciers < 1 km² from RGI o1 region.\")\n",
      "/home/jan/Software/miniforge3/envs/cryoswath/lib/python3.12/site-packages/xarray/core/computation.py:831: RuntimeWarning: divide by zero encountered in log10\n",
      "  result_data = func(*input_data)\n"
     ]
    },
    {
     "name": "stdout",
     "output_type": "stream",
     "text": [
      "saving 2024-05-08 19:23:55\n",
      "done processing 2024-05-01 00:00:00\n"
     ]
    }
   ],
   "source": [
    "swath_data, poca_data = l2.from_id(misc.cs_time_to_id(example_tracks.iloc[-1].name), drop_outside=5_000)"
   ]
  },
  {
   "cell_type": "markdown",
   "metadata": {},
   "source": [
    "The output is returned as `geopandas.GeoDataFrame`. By default, the\n",
    "elevation estimates \"height\", the reference elevation at this location\n",
    "\"h_ref\", and their difference \"h_diff\" are returned. However, by passing\n",
    "the keyword arguments `out_vars` or `retain_vars`, you can freely select\n",
    "what values are returned. Further, by passing `max_elev_diff` you can\n",
    "discard points with large \"h_diff\" values. This you should do in the\n",
    "production phase, but not necessarily when you evaluate your setup.\n",
    "Don't worry about off-glacier points that show a large deviation."
   ]
  },
  {
   "cell_type": "code",
   "execution_count": 7,
   "metadata": {},
   "outputs": [
    {
     "data": {
      "text/html": [
       "<div>\n",
       "<style scoped>\n",
       "    .dataframe tbody tr th:only-of-type {\n",
       "        vertical-align: middle;\n",
       "    }\n",
       "\n",
       "    .dataframe tbody tr th {\n",
       "        vertical-align: top;\n",
       "    }\n",
       "\n",
       "    .dataframe thead th {\n",
       "        text-align: right;\n",
       "    }\n",
       "</style>\n",
       "<table border=\"1\" class=\"dataframe\">\n",
       "  <thead>\n",
       "    <tr style=\"text-align: right;\">\n",
       "      <th></th>\n",
       "      <th></th>\n",
       "      <th>height</th>\n",
       "      <th>h_ref</th>\n",
       "      <th>h_diff</th>\n",
       "      <th>geometry</th>\n",
       "    </tr>\n",
       "    <tr>\n",
       "      <th>time</th>\n",
       "      <th>sample</th>\n",
       "      <th></th>\n",
       "      <th></th>\n",
       "      <th></th>\n",
       "      <th></th>\n",
       "    </tr>\n",
       "  </thead>\n",
       "  <tbody>\n",
       "    <tr>\n",
       "      <th rowspan=\"5\" valign=\"top\">2024-05-08 19:26:34.770012928+00:00</th>\n",
       "      <th>458</th>\n",
       "      <td>413.540347</td>\n",
       "      <td>405.703125</td>\n",
       "      <td>7.837222</td>\n",
       "      <td>POINT (-1037014.502 -1983671.221)</td>\n",
       "    </tr>\n",
       "    <tr>\n",
       "      <th>459</th>\n",
       "      <td>413.379046</td>\n",
       "      <td>405.703125</td>\n",
       "      <td>7.675921</td>\n",
       "      <td>POINT (-1037057.954 -1983655.059)</td>\n",
       "    </tr>\n",
       "    <tr>\n",
       "      <th>462</th>\n",
       "      <td>412.827374</td>\n",
       "      <td>408.789062</td>\n",
       "      <td>4.038312</td>\n",
       "      <td>POINT (-1037142.338 -1983623.673)</td>\n",
       "    </tr>\n",
       "    <tr>\n",
       "      <th>463</th>\n",
       "      <td>412.349291</td>\n",
       "      <td>405.703125</td>\n",
       "      <td>6.646166</td>\n",
       "      <td>POINT (-1037002.234 -1983675.784)</td>\n",
       "    </tr>\n",
       "    <tr>\n",
       "      <th>464</th>\n",
       "      <td>411.718274</td>\n",
       "      <td>410.406250</td>\n",
       "      <td>1.312024</td>\n",
       "      <td>POINT (-1036711.871 -1983783.781)</td>\n",
       "    </tr>\n",
       "    <tr>\n",
       "      <th>...</th>\n",
       "      <th>...</th>\n",
       "      <td>...</td>\n",
       "      <td>...</td>\n",
       "      <td>...</td>\n",
       "      <td>...</td>\n",
       "    </tr>\n",
       "    <tr>\n",
       "      <th rowspan=\"5\" valign=\"top\">2024-05-08 19:27:10.041869056+00:00</th>\n",
       "      <th>1017</th>\n",
       "      <td>-17.875674</td>\n",
       "      <td>0.882812</td>\n",
       "      <td>-18.758487</td>\n",
       "      <td>POINT (-949511.79 -1762645.119)</td>\n",
       "    </tr>\n",
       "    <tr>\n",
       "      <th>1018</th>\n",
       "      <td>-25.463737</td>\n",
       "      <td>1.617188</td>\n",
       "      <td>-27.080925</td>\n",
       "      <td>POINT (-951526.527 -1761882.919)</td>\n",
       "    </tr>\n",
       "    <tr>\n",
       "      <th>1019</th>\n",
       "      <td>-25.276084</td>\n",
       "      <td>1.554688</td>\n",
       "      <td>-26.830772</td>\n",
       "      <td>POINT (-953852.027 -1761002.998)</td>\n",
       "    </tr>\n",
       "    <tr>\n",
       "      <th>1020</th>\n",
       "      <td>-21.759573</td>\n",
       "      <td>0.875000</td>\n",
       "      <td>-22.634573</td>\n",
       "      <td>POINT (-950167.79 -1762396.96)</td>\n",
       "    </tr>\n",
       "    <tr>\n",
       "      <th>1021</th>\n",
       "      <td>-21.917882</td>\n",
       "      <td>0.867188</td>\n",
       "      <td>-22.785069</td>\n",
       "      <td>POINT (-950150.08 -1762403.659)</td>\n",
       "    </tr>\n",
       "  </tbody>\n",
       "</table>\n",
       "<p>221323 rows × 4 columns</p>\n",
       "</div>"
      ],
      "text/plain": [
       "                                                height       h_ref     h_diff  \\\n",
       "time                                sample                                      \n",
       "2024-05-08 19:26:34.770012928+00:00 458     413.540347  405.703125   7.837222   \n",
       "                                    459     413.379046  405.703125   7.675921   \n",
       "                                    462     412.827374  408.789062   4.038312   \n",
       "                                    463     412.349291  405.703125   6.646166   \n",
       "                                    464     411.718274  410.406250   1.312024   \n",
       "...                                                ...         ...        ...   \n",
       "2024-05-08 19:27:10.041869056+00:00 1017    -17.875674    0.882812 -18.758487   \n",
       "                                    1018    -25.463737    1.617188 -27.080925   \n",
       "                                    1019    -25.276084    1.554688 -26.830772   \n",
       "                                    1020    -21.759573    0.875000 -22.634573   \n",
       "                                    1021    -21.917882    0.867188 -22.785069   \n",
       "\n",
       "                                                                     geometry  \n",
       "time                                sample                                     \n",
       "2024-05-08 19:26:34.770012928+00:00 458     POINT (-1037014.502 -1983671.221)  \n",
       "                                    459     POINT (-1037057.954 -1983655.059)  \n",
       "                                    462     POINT (-1037142.338 -1983623.673)  \n",
       "                                    463     POINT (-1037002.234 -1983675.784)  \n",
       "                                    464     POINT (-1036711.871 -1983783.781)  \n",
       "...                                                                       ...  \n",
       "2024-05-08 19:27:10.041869056+00:00 1017      POINT (-949511.79 -1762645.119)  \n",
       "                                    1018     POINT (-951526.527 -1761882.919)  \n",
       "                                    1019     POINT (-953852.027 -1761002.998)  \n",
       "                                    1020       POINT (-950167.79 -1762396.96)  \n",
       "                                    1021      POINT (-950150.08 -1762403.659)  \n",
       "\n",
       "[221323 rows x 4 columns]"
      ]
     },
     "execution_count": 7,
     "metadata": {},
     "output_type": "execute_result"
    }
   ],
   "source": [
    "swath_data"
   ]
  },
  {
   "cell_type": "code",
   "execution_count": 8,
   "metadata": {},
   "outputs": [
    {
     "name": "stderr",
     "output_type": "stream",
     "text": [
      "/home/jan/Documents/PhD/projects/2023__cryoswath/scripts/../cryoswath/misc.py:909: UserWarning: Dropping 5600 glaciers < 1 km² from RGI o1 region.\n",
      "  warnings.warn(f\"Dropping {sum(small_glacier_mask)} glaciers < 1 km² from RGI o1 region.\")\n"
     ]
    }
   ],
   "source": [
    "o1_complexes = misc.load_glacier_outlines(misc.find_region_id(lat_lon_tuple, \"o1\"), union=False)\n",
    "barnes_ice_cap_shp = o1_complexes[o1_complexes.contains(shapely.Point(lat_lon_tuple[::-1]))]"
   ]
  },
  {
   "cell_type": "code",
   "execution_count": 9,
   "metadata": {},
   "outputs": [
    {
     "data": {
      "text/plain": [
       "<matplotlib.legend.Legend at 0x7f63d254aae0>"
      ]
     },
     "execution_count": 9,
     "metadata": {},
     "output_type": "execute_result"
    },
    {
     "data": {
      "image/png": "[encoded data removed]",
      "text/plain": [
       "<Figure size 640x480 with 1 Axes>"
      ]
     },
     "metadata": {},
     "output_type": "display_data"
    }
   ],
   "source": [
    "fig, ax = plt.subplots()\n",
    "barnes_ice_cap_shp.boundary.to_crs(swath_data.crs).plot(ax=ax, color=\"k\", lw=.6)\n",
    "swath_data.clip(barnes_ice_cap_shp.geometry.to_crs(swath_data.crs)).sort_values(\"height\").plot(column=\"height\", ax=ax, label=\"swath data\")\n",
    "poca_data.clip(barnes_ice_cap_shp.geometry.to_crs(swath_data.crs)).plot(color=\"tab:red\", marker=\"o\", fc=\"none\", ax=ax, label=\"POCAs\")\n",
    "ax.yaxis.set_visible(False)\n",
    "ax.xaxis.set_visible(False)\n",
    "plt.legend()"
   ]
  },
  {
   "cell_type": "markdown",
   "metadata": {},
   "source": [
    "You now know, how to retrieve all elevation estimates of a certain\n",
    "track. Infact, you could already use a simple loop to get the elevation\n",
    "estimates of all tracks. However, since that is a standard use-case,\n",
    "there are dedicated pipelines to do so."
   ]
  }
 ],
 "metadata": {
  "kernelspec": {
   "display_name": "cryoswath",
   "language": "python",
   "name": "python3"
  },
  "language_info": {
   "codemirror_mode": {
    "name": "ipython",
    "version": 3
   },
   "file_extension": ".py",
   "mimetype": "text/x-python",
   "name": "python",
   "nbconvert_exporter": "python",
   "pygments_lexer": "ipython3",
   "version": "3.12.5"
  }
 },
 "nbformat": 4,
 "nbformat_minor": 4
}
