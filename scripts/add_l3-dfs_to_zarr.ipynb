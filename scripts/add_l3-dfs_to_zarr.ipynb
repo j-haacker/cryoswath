{
 "cells": [
  {
   "cell_type": "code",
   "execution_count": 12,
   "metadata": {},
   "outputs": [],
   "source": [
    "import xarray as xr\n",
    "import numpy as np\n",
    "import pandas as pd\n",
    "import glob\n",
    "import os\n",
    "from importlib import reload"
   ]
  },
  {
   "cell_type": "code",
   "execution_count": 13,
   "metadata": {},
   "outputs": [],
   "source": [
    "import sys\n",
    "sys.path.append(\"..\")"
   ]
  },
  {
   "cell_type": "code",
   "execution_count": 14,
   "metadata": {},
   "outputs": [],
   "source": [
    "import geopandas as gpd\n",
    "from rioxarray.exceptions import NoDataInBounds\n",
    "import warnings"
   ]
  },
  {
   "cell_type": "code",
   "execution_count": null,
   "metadata": {},
   "outputs": [],
   "source": [
    "from cryoswath import misc, l3, gis"
   ]
  },
  {
   "cell_type": "code",
   "execution_count": null,
   "metadata": {},
   "outputs": [],
   "source": [
    "feather_list = glob.glob(\"*__l3_dfdump__*.feather\", root_dir=misc.tmp_path)\n",
    "feather_list"
   ]
  },
  {
   "cell_type": "code",
   "execution_count": 17,
   "metadata": {},
   "outputs": [],
   "source": [
    "regions = [[region_str.split(\"_\")[1] for region_str in [name_part for name_part in feather_name.split(\"__\") if name_part.startswith(\"region\")]][0] for feather_name in feather_list]\n",
    "regions = [region for i, region in enumerate(regions) if region not in regions[:i]]"
   ]
  },
  {
   "cell_type": "code",
   "execution_count": null,
   "metadata": {},
   "outputs": [],
   "source": [
    "for region_id in regions:\n",
    "    ds = xr.open_zarr(os.path.join(misc.l3_path, f\"{region_id}_monthly_500m.zarr\"), decode_coords=\"all\")\n",
    "    for feather_name in glob.glob(f\"*__l3_dfdump__region_{region_id}__*.feather\", root_dir=misc.tmp_path):\n",
    "        if not os.path.isfile(os.path.join(misc.tmp_path, feather_name)):\n",
    "            print(f\"Skipping {feather_name} because file not found. Was it processed already?\")\n",
    "            continue\n",
    "        print(f\"Processing {feather_name}\")\n",
    "        df = pd.read_feather(os.path.join(misc.tmp_path, feather_name))\n",
    "        if any([len(df.index.levels[i])==1 for i in range(1, 3)]):\n",
    "            warnings.warn(f\"!! Singular on x or/and y !! Deleting file {feather_name} (anyway) !!\")\n",
    "        else:\n",
    "            conti_time_index = pd.Index([(tix, df.index.levels[1][0], df.index.levels[2][0]) for tix in ds.time.values], name=df.index.names)\n",
    "            df = df.reindex(index=df.index.join(conti_time_index, how=\"outer\"))\n",
    "            try:\n",
    "                (l3.dataframe_to_rioxr(df, ds.rio.crs)\n",
    "                    .rio.clip_box(*ds.rio.bounds())\n",
    "                    .drop_vars(['spatial_ref'])\n",
    "                    .to_zarr(os.path.join(misc.l3_path, f\"{region_id}_monthly_500m.zarr\"), region=\"auto\"))\n",
    "            except NoDataInBounds:\n",
    "                warnings.warn(f\"!! No data in bounds for {region_id} !! Deleting file {feather_name} (anyway) !!\")\n",
    "        print(f\"... removing {feather_name}\")\n",
    "        os.remove(os.path.join(misc.tmp_path, feather_name))"
   ]
  }
 ],
 "metadata": {
  "kernelspec": {
   "display_name": "cryoswath",
   "language": "python",
   "name": "python3"
  },
  "language_info": {
   "codemirror_mode": {
    "name": "ipython",
    "version": 3
   },
   "file_extension": ".py",
   "mimetype": "text/x-python",
   "name": "python",
   "nbconvert_exporter": "python",
   "pygments_lexer": "ipython3",
   "version": "3.12.4"
  }
 },
 "nbformat": 4,
 "nbformat_minor": 2
}
