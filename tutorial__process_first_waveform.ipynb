{
 "cells": [
  {
   "cell_type": "markdown",
   "metadata": {
    "editable": true,
    "slideshow": {
     "slide_type": "slide"
    },
    "tags": []
   },
   "source": [
    "# Process first waveform tutorial\n",
    "\n",
    "This tutorial shows you, how to process and view elevation estimates of\n",
    "a specific waveform. Note: cryoswath will not require you to do so. It\n",
    "is designed to allow building higher level products without\n",
    "augmentation. However, whenever you encounter features that seem to be\n",
    "artificial, viewing the base data may help to understand what you see."
   ]
  },
  {
   "cell_type": "code",
   "execution_count": null,
   "metadata": {},
   "outputs": [],
   "source": [
    "# make the package available/from search path\n",
    "import sys\n",
    "sys.path.insert(0, \"..\")"
   ]
  },
  {
   "cell_type": "code",
   "execution_count": null,
   "metadata": {
    "editable": true,
    "slideshow": {
     "slide_type": "fragment"
    },
    "tags": []
   },
   "outputs": [],
   "source": [
    "from cryoswath import misc, l1b\n",
    "import cryoswath.test_plots.waveform"
   ]
  },
  {
   "cell_type": "markdown",
   "metadata": {
    "editable": true,
    "slideshow": {
     "slide_type": "slide"
    },
    "tags": []
   },
   "source": [
    "Think of your favorite glacier and enter its lat, lon coordinates below.\n",
    "Mind that you need to have a reference elevation model for the glacier -\n",
    "so choose one that is covered.  \n",
    "\n",
    "The code below will find the glaciers RGI identifier, load its outlines,\n",
    "and than load all tracks within a 5 km radius."
   ]
  },
  {
   "cell_type": "code",
   "execution_count": null,
   "metadata": {},
   "outputs": [],
   "source": [
    "basin_rgi_id = misc.find_region_id((75.85, 64.983333), scope=\"basin\")"
   ]
  },
  {
   "cell_type": "code",
   "execution_count": null,
   "metadata": {},
   "outputs": [],
   "source": [
    "basin_outlines = misc.load_glacier_outlines([basin_rgi_id], union=False).unary_union"
   ]
  },
  {
   "cell_type": "code",
   "execution_count": null,
   "metadata": {
    "slideshow": {
     "slide_type": "fragment"
    }
   },
   "outputs": [],
   "source": [
    "example_tracks = misc.load_cs_ground_tracks(basin_outlines, buffer_region_by=5_000)\n",
    "print(\"number of tracks:\", example_tracks.shape[0], \"\\n last five:\", example_tracks.tail(5))"
   ]
  },
  {
   "cell_type": "markdown",
   "metadata": {},
   "source": [
    "In the following, the latest track is loaded and processed.\n",
    "Note that the processing, here, is triggered by calling the method\n",
    "`append_best_fit_phase_index()`. There is different ways, with the\n",
    "\"standard\" being calling `to_l2()`. That, however, would return point\n",
    "data with the waveform information discarded (which I would like to use\n",
    "in a moment)."
   ]
  },
  {
   "cell_type": "code",
   "execution_count": null,
   "metadata": {},
   "outputs": [],
   "source": [
    "l1b_data = l1b.from_id(misc.cs_time_to_id(example_tracks.iloc[-1].name), drop_outside=5_000)"
   ]
  },
  {
   "cell_type": "code",
   "execution_count": null,
   "metadata": {},
   "outputs": [],
   "source": [
    "# trigger complete processing\n",
    "l1b_data = l1b.append_best_fit_phase_index(l1b_data)"
   ]
  },
  {
   "cell_type": "markdown",
   "metadata": {},
   "source": [
    "Now, you can have the retrieved elevation data plotted together with the\n",
    "glaciers cross section.  \n",
    "Below, we arbitrarily choose the 200st waveform. Change this value, if\n",
    "the waveform is not on the glacier for your use case."
   ]
  },
  {
   "cell_type": "code",
   "execution_count": null,
   "metadata": {},
   "outputs": [],
   "source": [
    "cryoswath.test_plots.waveform.dem_transect(l1b_data.isel(time_20_ku=[200]))"
   ]
  },
  {
   "cell_type": "markdown",
   "metadata": {},
   "source": [
    "You could go ahead and inspect the coherence and power waveforms."
   ]
  },
  {
   "cell_type": "code",
   "execution_count": null,
   "metadata": {},
   "outputs": [],
   "source": [
    "cryoswath.test_plots.waveform.coherence(l1b_data.isel(time_20_ku=[200]))"
   ]
  },
  {
   "cell_type": "code",
   "execution_count": null,
   "metadata": {},
   "outputs": [],
   "source": [
    "cryoswath.test_plots.waveform.power(l1b_data.isel(time_20_ku=[200]))"
   ]
  },
  {
   "cell_type": "markdown",
   "metadata": {},
   "source": [
    "With this, you now know how to view the data on a per-waveform basis.\n",
    "Should you encounter elevation estimates that are hard to comprehend,\n",
    "use this to search for potential issues."
   ]
  }
 ],
 "metadata": {
  "kernelspec": {
   "display_name": "cryoswath",
   "language": "python",
   "name": "python3"
  },
  "language_info": {
   "codemirror_mode": {
    "name": "ipython",
    "version": 3
   },
   "file_extension": ".py",
   "mimetype": "text/x-python",
   "name": "python",
   "nbconvert_exporter": "python",
   "pygments_lexer": "ipython3",
   "version": "3.12.9"
  }
 },
 "nbformat": 4,
 "nbformat_minor": 4
}
