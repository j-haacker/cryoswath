{
 "cells": [
  {
   "cell_type": "markdown",
   "metadata": {},
   "source": [
    "# POCA retrieval tutorial\n",
    "\n",
    "cryoswath can, also, retrieve point of closest approach (POCA) elevation\n",
    "estimates. Those are especially useful when studying ice caps, where the\n",
    "highest points are ice covered. There are more potential use-cases for\n",
    "POCA data; however, consider whether the implemented algorithm suits\n",
    "your needs (if not, I encourage you to write a little module yourself;\n",
    "I'll be happy to adopt it). The implementation, in a nutshell, finds the\n",
    "maximum coherence on the leading edge (i.e., the first rise in signal\n",
    "power) and interprets the location of the corresponding waveform sample\n",
    "as POCA.\n",
    "\n",
    "I acknowledge, **POCA's are somewhat hidden**. However, if you batch\n",
    "process the tracks for any region, you'll be served the POCA's\n",
    "automatically. It may be easiest to get them from a file on disk -- have\n",
    "a look in `data/L2_poca`. Currently, the alternative is to ask them from\n",
    "the `l1b` module which requires you to loop over all tracks yourself."
   ]
  },
  {
   "cell_type": "code",
   "execution_count": null,
   "metadata": {},
   "outputs": [],
   "source": [
    "import sys\n",
    "sys.path.append((\"..\"))"
   ]
  },
  {
   "cell_type": "code",
   "execution_count": null,
   "metadata": {},
   "outputs": [],
   "source": [
    "from cryoswath.misc import *\n",
    "from cryoswath import gis, l1b, l2, l3\n",
    "from cryoswath.test_plots import waveform\n",
    "import os\n",
    "import geopandas as gpd"
   ]
  },
  {
   "cell_type": "markdown",
   "metadata": {},
   "source": [
    "## Viewing point data\n",
    "\n",
    "To show an example, first, some tracks are viewed to select a track ID/time stamp."
   ]
  },
  {
   "cell_type": "code",
   "execution_count": null,
   "metadata": {},
   "outputs": [],
   "source": [
    "load_cs_ground_tracks(\"06-01\", \"2024-01\", \"2024-02\", buffer_region_by=10_000)"
   ]
  },
  {
   "cell_type": "markdown",
   "metadata": {},
   "source": [
    "Next, the L1b data of the first track is loaded."
   ]
  },
  {
   "cell_type": "code",
   "execution_count": null,
   "metadata": {},
   "outputs": [],
   "source": [
    "l1b_data = l1b.L1bData.from_id(\"2024-01-02 10:53:42\")\n",
    "l1b_data"
   ]
  },
  {
   "cell_type": "markdown",
   "metadata": {},
   "source": [
    "Then, the data is processed - meaning geolocating the echo origins."
   ]
  },
  {
   "cell_type": "code",
   "execution_count": null,
   "metadata": {},
   "outputs": [],
   "source": [
    "l1b_data = l1b_data.append_best_fit_phase_index()"
   ]
  },
  {
   "cell_type": "markdown",
   "metadata": {},
   "source": [
    "You can obtain a list of all waveforms for which a POCA was found as follows:"
   ]
  },
  {
   "cell_type": "code",
   "execution_count": null,
   "metadata": {},
   "outputs": [],
   "source": [
    "poca_wf_time_idx = l1b_data.time_20_ku[~l1b_data.poca_idx.isnull()]\n",
    "poca_wf_time_idx"
   ]
  },
  {
   "cell_type": "markdown",
   "metadata": {},
   "source": [
    "To view the first waveform that contains the POCA, use the crosssection test plot. "
   ]
  },
  {
   "cell_type": "code",
   "execution_count": null,
   "metadata": {},
   "outputs": [],
   "source": [
    "# fyi: double square brackets to provide list as required by function\n",
    "waveform.dem_transect(l1b_data.sel(time_20_ku=poca_wf_time_idx[[0]]))"
   ]
  },
  {
   "cell_type": "markdown",
   "metadata": {},
   "source": [
    "Let's briefly view the elevation differences to the reference DEM as a histogramm."
   ]
  },
  {
   "cell_type": "code",
   "execution_count": null,
   "metadata": {},
   "outputs": [],
   "source": [
    "# the many `.sel` successively cut down the data to the requested\n",
    "# fraction. 1. select phase wrap factor, 2. select waveforms containing\n",
    "# POCAs (time_20_ku=...), 3. select POCA sample\n",
    "l1b_data.sel(phase_wrap_factor=l1b_data.ph_idx).sel(time_20_ku=poca_wf_time_idx).sel(ns_20_ku=l1b_data.sel(time_20_ku=poca_wf_time_idx).poca_idx).xph_elev_diffs.plot.hist(bins=range(-50, 51));"
   ]
  },
  {
   "cell_type": "markdown",
   "metadata": {},
   "source": [
    "## POCA product on a larger scale\n",
    "\n",
    "Usually, you will care less about individual waveforms. Here, it is\n",
    "shown how to do the processing on a more general level. Start with\n",
    "processing all the tracks of January 2024 for Iceland (or make your own\n",
    "choice). This step produces `.feather` files in `./data/L2_poca`, using\n",
    "the default setup. Those will contain the POCA data and can be read,\n",
    "e.g., by `geopandas.read_feather()`. You can actually skip this step,\n",
    "but in many use-cases, e.g., processing data for longer periods, it is\n",
    "convenient to separate downloading and processessing the data from\n",
    "further analysis. This is because one may want to use multiple processes\n",
    "for the download (I recommend 8, respecting ESA's restrictions) and for\n",
    "processing (can be specified should 8 be too many for your local\n",
    "workstation). Much of the analysis profits from sharing working memory,\n",
    "i.e., using a single process (except for advanced tools)."
   ]
  },
  {
   "cell_type": "code",
   "execution_count": null,
   "metadata": {},
   "outputs": [],
   "source": [
    "l2.process_and_save(\"06-01\", \"2024-01\", \"2024-02\", buffer_region_by=0)"
   ]
  },
  {
   "cell_type": "markdown",
   "metadata": {},
   "source": [
    "For this example, the cell below collects all the POCA data. If you\n",
    "chose to skip the step above, it will, first, download and process the\n",
    "data, of course."
   ]
  },
  {
   "cell_type": "code",
   "execution_count": null,
   "metadata": {},
   "outputs": [],
   "source": [
    "poca_data = l2.from_id(load_cs_ground_tracks(\"06-01\", \"2024-01\", \"2024-02\", buffer_region_by=0).index, reprocess=False)[1]\n",
    "poca_data\n",
    "# all_l2_data = l2.from_id(load_cs_ground_tracks(\"06-01\", \"2024-01\", \"2024-02\", buffer_region_by=0).index, reprocess=False)"
   ]
  },
  {
   "cell_type": "markdown",
   "metadata": {},
   "source": [
    "And, finally, below a histogram is shown."
   ]
  },
  {
   "cell_type": "code",
   "execution_count": null,
   "metadata": {},
   "outputs": [],
   "source": [
    "poca_data.h_diff.plot.hist(bins=range(-50, 51))"
   ]
  }
 ],
 "metadata": {
  "kernelspec": {
   "display_name": "cryoswath",
   "language": "python",
   "name": "python3"
  },
  "language_info": {
   "codemirror_mode": {
    "name": "ipython",
    "version": 3
   },
   "file_extension": ".py",
   "mimetype": "text/x-python",
   "name": "python",
   "nbconvert_exporter": "python",
   "pygments_lexer": "ipython3",
   "version": "3.12.1"
  }
 },
 "nbformat": 4,
 "nbformat_minor": 2
}
