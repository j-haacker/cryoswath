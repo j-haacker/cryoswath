{
 "cells": [
  {
   "cell_type": "markdown",
   "metadata": {},
   "source": [
    "# Void filling test\n",
    "\n",
    "Tests whether void filling of l3 data was successful by comparing the\n",
    "number of valid cells over time."
   ]
  },
  {
   "cell_type": "code",
   "execution_count": null,
   "metadata": {},
   "outputs": [],
   "source": [
    "import glob, os, sys\n",
    "import matplotlib.pyplot as plt\n",
    "import xarray as xr\n",
    "\n",
    "sys.path.append(\"..\")\n",
    "\n",
    "from cryoswath import misc"
   ]
  },
  {
   "cell_type": "code",
   "execution_count": null,
   "metadata": {},
   "outputs": [],
   "source": [
    "for nc_file in glob.glob(\"*__elev_diff_to_ref_at_monthly_intervals.nc\", root_dir=misc.l4_path):\n",
    "    with xr.open_dataset(os.path.join(misc.l4_path, nc_file)) as ds:\n",
    "        _, ax = plt.subplots(ncols=3, figsize=(18, 5))\n",
    "        (~ds._median.isnull()).sum([\"x\", \"y\"]).plot(ax=ax[0])\n",
    "        ax[0].set_xlabel(\"\")\n",
    "        ax[0].set_ylabel(\"valid cell count\")\n",
    "        ax[0].set_title(nc_file[:5])\n",
    "        ds._median.mean([\"x\", \"y\"]).plot(ax=ax[1])\n",
    "        ax[1].set_xlabel(\"\")\n",
    "        ax[1].set_ylabel(\"valid cell count\")\n",
    "        ax[1].set_title(nc_file[:5])\n",
    "        ds._median.isel(time=100).T.plot(ax=ax[2], robust=True, cmap=\"RdYlBu\")\n",
    "        ax[2].set_xlabel(\"\")\n",
    "        ax[2].set_ylabel(\"\")\n",
    "        plt.show()"
   ]
  }
 ],
 "metadata": {
  "kernelspec": {
   "display_name": "cryoswath",
   "language": "python",
   "name": "python3"
  },
  "language_info": {
   "codemirror_mode": {
    "name": "ipython",
    "version": 3
   },
   "file_extension": ".py",
   "mimetype": "text/x-python",
   "name": "python",
   "nbconvert_exporter": "python",
   "pygments_lexer": "ipython3",
   "version": "3.12.4"
  }
 },
 "nbformat": 4,
 "nbformat_minor": 2
}
