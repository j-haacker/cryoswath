{
 "cells": [
  {
   "cell_type": "markdown",
   "metadata": {},
   "source": [
    "# test report: swath start"
   ]
  },
  {
   "cell_type": "markdown",
   "metadata": {},
   "source": [
    "The algorithm to detect the first sample that can safely be used for\n",
    "swath processing depends on a number of assumptions and heuristics. With\n",
    "that, it is one of the most susceptible parts of the algorithm.\n",
    "\n",
    "I assume that in a regular case, the range window start above the\n",
    "surface with basically no signal present. The first sample that\n",
    "intersects the surface is the point of closest approach POCA. However,\n",
    "in detail the \"first sample\" is not easy to define. In mountainous\n",
    "regions, this first observable intersection is ahead of or behind what\n",
    "we usually view as \"footprint\". From there, the signal builds up\n",
    "(leading edge), until the power and the coherence assume a high value.\n",
    "This is where I define the POCA: at the first coherence peak. Again,\n",
    "what one considers the first peak involves choices. I use a rather early\n",
    "point (see the code for details) which might lead to a positive bias\n",
    "(which depends on the along-track slope -- the steeper, the bigger the\n",
    "overestimation). After that, the area that contributes to the signal\n",
    "disperses and ultimately splits into a left and right side around the\n",
    "POCA. With that the coherence drops, until the left and right sides are\n",
    "far enough apart (~10 km) and their signals do not interfere anymore.\n",
    "After this point, or when one of the sides starts to dominate the\n",
    "signal, we can use the remaining samples to retrieve swath elevation\n",
    "estimates. Mind that range ambiguities can appear, also, at any later\n",
    "location; which is why one usually requires a minimum coherence for any\n",
    "processed sample.\n",
    "\n",
    "With those assumptions and choices, I search for the maximum coherence\n",
    "in a 10 m window after the coherence first exceeds 0.85 and name this\n",
    "sample the POCA. In another window from 5 to 50 m after the POCA, I\n",
    "search for a rise in coherence. This is where the swath processing\n",
    "starts.\n",
    "\n",
    "In the following, \"edge cases\" are recognized by an early or late swath\n",
    "start. For the _k_ earliest and latest of those, the coherence waveform\n",
    "is plotted for visual inspection. Also for another _k_ random ones."
   ]
  },
  {
   "cell_type": "code",
   "execution_count": null,
   "metadata": {},
   "outputs": [],
   "source": [
    "k_smallest = 5\n",
    "k_biggest = 5\n",
    "k_random = 5"
   ]
  },
  {
   "cell_type": "code",
   "execution_count": null,
   "metadata": {},
   "outputs": [],
   "source": [
    "import os, sys\n",
    "sys.path.insert(0, os.path.join(\"..\", \"..\"))"
   ]
  },
  {
   "cell_type": "code",
   "execution_count": null,
   "metadata": {},
   "outputs": [],
   "source": [
    "from cryoswath import l1b"
   ]
  },
  {
   "cell_type": "code",
   "execution_count": null,
   "metadata": {},
   "outputs": [],
   "source": [
    "l1b_data = l1b.l1b_data.from_id(\"20140517T225409\").append_best_fit_phase_index()"
   ]
  },
  {
   "cell_type": "code",
   "execution_count": null,
   "metadata": {},
   "outputs": [],
   "source": [
    "import numpy as np"
   ]
  },
  {
   "cell_type": "code",
   "execution_count": null,
   "metadata": {},
   "outputs": [],
   "source": [
    "import cryoswath.test_plots.waveform"
   ]
  },
  {
   "cell_type": "code",
   "execution_count": null,
   "metadata": {},
   "outputs": [],
   "source": [
    "for idx in np.argpartition(l1b_data.swath_start.values, kth=k_smallest)[:k_smallest]:\n",
    "    cryoswath.test_plots.waveform.coherence(l1b_data.isel(time_20_ku=[idx]))"
   ]
  },
  {
   "cell_type": "code",
   "execution_count": null,
   "metadata": {},
   "outputs": [],
   "source": [
    "for idx in np.argpartition(l1b_data.swath_start.values, kth=-k_biggest)[-k_biggest:]:\n",
    "    cryoswath.test_plots.waveform.coherence(l1b_data.isel(time_20_ku=[idx]))"
   ]
  },
  {
   "cell_type": "code",
   "execution_count": null,
   "metadata": {},
   "outputs": [],
   "source": [
    "import random"
   ]
  },
  {
   "cell_type": "code",
   "execution_count": null,
   "metadata": {},
   "outputs": [],
   "source": [
    "for idx in random.sample(range(len(l1b_data.time_20_ku)), k=k_random):\n",
    "    cryoswath.test_plots.waveform.coherence(l1b_data.isel(time_20_ku=[idx]))"
   ]
  }
 ],
 "metadata": {
  "kernelspec": {
   "display_name": "cryoswath",
   "language": "python",
   "name": "python3"
  },
  "language_info": {
   "codemirror_mode": {
    "name": "ipython",
    "version": 3
   },
   "file_extension": ".py",
   "mimetype": "text/x-python",
   "name": "python",
   "nbconvert_exporter": "python",
   "pygments_lexer": "ipython3",
   "version": "3.10.12"
  }
 },
 "nbformat": 4,
 "nbformat_minor": 2
}
