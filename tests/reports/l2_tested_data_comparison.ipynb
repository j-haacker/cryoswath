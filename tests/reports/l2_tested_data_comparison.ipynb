{
 "cells": [
  {
   "cell_type": "markdown",
   "metadata": {},
   "source": [
    "# test report: comparison with tested data"
   ]
  },
  {
   "cell_type": "code",
   "execution_count": null,
   "metadata": {},
   "outputs": [],
   "source": [
    "import os, sys\n",
    "sys.path.insert(0, os.path.join(\"..\", \"..\"))"
   ]
  },
  {
   "cell_type": "code",
   "execution_count": null,
   "metadata": {},
   "outputs": [],
   "source": [
    "import pandas as pd\n",
    "import geopandas as gpd\n",
    "import numpy as np"
   ]
  },
  {
   "cell_type": "code",
   "execution_count": null,
   "metadata": {},
   "outputs": [],
   "source": [
    "ref_data = pd.read_csv(\"reference_data/L2_reference_data_20220521T110815.csv\", index_col=[\"time\", \"sample\"], parse_dates=True).sort_index()\n",
    "ref_data = gpd.GeoDataFrame(ref_data.drop(columns=[\"lon\", \"lat\"]), geometry=gpd.points_from_xy(ref_data.lon, ref_data.lat), crs=4326)\n",
    "ref_data[\"power\"] = np.power(10, ref_data.power/10)"
   ]
  },
  {
   "cell_type": "code",
   "execution_count": null,
   "metadata": {},
   "outputs": [],
   "source": [
    "from cryoswath import l1b"
   ]
  },
  {
   "cell_type": "code",
   "execution_count": null,
   "metadata": {},
   "outputs": [],
   "source": [
    "l1b_data = l1b.from_id(\"20220521T110815\", smooth_phase_difference=False, drop_outside=None, waveform_selection=ref_data.index.levels[0]).append_best_fit_phase_index()"
   ]
  },
  {
   "cell_type": "code",
   "execution_count": null,
   "metadata": {},
   "outputs": [],
   "source": [
    "l2_swath, l2_poca = l1b_data.to_l2(swath_or_poca=\"both\")"
   ]
  },
  {
   "cell_type": "code",
   "execution_count": null,
   "metadata": {},
   "outputs": [],
   "source": [
    "ref_data.index = ref_data.index.set_levels(l2_swath.index.levels[0], level=0)"
   ]
  },
  {
   "cell_type": "code",
   "execution_count": null,
   "metadata": {},
   "outputs": [],
   "source": [
    "ref_poca = ref_data[ref_data.rel_samp_nr==0]\n",
    "ref_poca.index = ref_poca.index.get_level_values(\"time\")"
   ]
  },
  {
   "cell_type": "code",
   "execution_count": null,
   "metadata": {},
   "outputs": [],
   "source": [
    "ref_swath = ref_data[~(ref_data.rel_samp_nr<20)]"
   ]
  },
  {
   "cell_type": "markdown",
   "metadata": {},
   "source": [
    "## swath elevation estimates"
   ]
  },
  {
   "cell_type": "code",
   "execution_count": null,
   "metadata": {},
   "outputs": [],
   "source": [
    "(l2_swath.height-ref_swath.height).plot.hist(xlabel=\"elevation difference, meter\");"
   ]
  },
  {
   "cell_type": "markdown",
   "metadata": {},
   "source": [
    "The plot above ideally shows, that there are not many values outside of the bin that includes zero."
   ]
  },
  {
   "cell_type": "code",
   "execution_count": null,
   "metadata": {},
   "outputs": [],
   "source": [
    "((l2_swath.height-ref_swath.height)*100).plot.hist(bins=np.arange(-30.5, 30.6, 1), xlabel=\"elevation difference, centimeter\");"
   ]
  },
  {
   "cell_type": "markdown",
   "metadata": {},
   "source": [
    "The figure above shows the deviation in detail. Since the data and their reference were retrieved from the same raw data, the differences should be very small."
   ]
  },
  {
   "cell_type": "code",
   "execution_count": null,
   "metadata": {},
   "outputs": [],
   "source": [
    "distance = l2_swath.distance(ref_swath.to_crs(l2_swath.crs))"
   ]
  },
  {
   "cell_type": "code",
   "execution_count": null,
   "metadata": {},
   "outputs": [],
   "source": [
    "distance.plot.hist(xlabel=\"distance, meter\");"
   ]
  },
  {
   "cell_type": "markdown",
   "metadata": {},
   "source": [
    "The above figure shows the horizontal distance between the compared\n",
    "data. Again, the differences should be small. Differences can for\n",
    "example occur if the phase ambiguity has been solved differently. For\n",
    "those cases, we'll check later whether they look plausible."
   ]
  },
  {
   "cell_type": "code",
   "execution_count": null,
   "metadata": {},
   "outputs": [],
   "source": [
    "(distance*1e3).plot.hist(bins=np.linspace(0, 50, 25), xlabel=\"distance, millimeter\");"
   ]
  },
  {
   "cell_type": "markdown",
   "metadata": {},
   "source": [
    "As before, most differences should be small. The scale was initially\n",
    "chosen to be millimeters to resolve the differences despite good\n",
    "agreement. However, in the horizontal, even differences up to 100 m\n",
    "would be reasonable, given the uncertainty of the phase difference."
   ]
  },
  {
   "cell_type": "code",
   "execution_count": null,
   "metadata": {},
   "outputs": [],
   "source": [
    "l2_swath[distance>1].h_diff.plot.hist(xlabel=\"elevation difference to DEM, meter\", bins=100);"
   ]
  },
  {
   "cell_type": "markdown",
   "metadata": {},
   "source": [
    "The above figure checks whether, in the cases where the data disagrees\n",
    "on the phase ambiguity, the tested data looks reasonable. Here, the\n",
    "elevation data is compared against the reference DEM."
   ]
  },
  {
   "cell_type": "markdown",
   "metadata": {},
   "source": [
    "## POCA elevation estimate.\n",
    "\n",
    "Below, the test figures are repeated for POCAs.\n",
    "\n",
    "*note:*  \n",
    "There are substantial differences between the old and the current\n",
    "POCA results. Checking the `l1b_swath_start.ipynb`, that also shows POCA\n",
    "points, it seems that the current implementation is good. A source of\n",
    "the discrepancy could well be involving non-glaciated areas. In future,\n",
    "reference data that definitely are on glaciated areas should be used."
   ]
  },
  {
   "cell_type": "code",
   "execution_count": null,
   "metadata": {},
   "outputs": [],
   "source": [
    "(l2_poca.height-ref_poca.height).plot.hist(xlabel=\"elevation difference, meter\", bins=100);"
   ]
  },
  {
   "cell_type": "code",
   "execution_count": null,
   "metadata": {},
   "outputs": [],
   "source": [
    "(l2_poca.height-ref_poca.height).plot.hist(bins=np.arange(-30.5, 30.6, 1), xlabel=\"elevation difference, meter\");"
   ]
  },
  {
   "cell_type": "code",
   "execution_count": null,
   "metadata": {},
   "outputs": [],
   "source": [
    "distance = l2_poca.distance(ref_poca.to_crs(l2_poca.crs));"
   ]
  },
  {
   "cell_type": "code",
   "execution_count": null,
   "metadata": {},
   "outputs": [],
   "source": [
    "distance.plot.hist(xlabel=\"distance, meter\");"
   ]
  },
  {
   "cell_type": "code",
   "execution_count": null,
   "metadata": {},
   "outputs": [],
   "source": [
    "distance.plot.hist(bins=np.linspace(0, 200, 25), xlabel=\"distance, meter\");"
   ]
  },
  {
   "cell_type": "code",
   "execution_count": null,
   "metadata": {},
   "outputs": [],
   "source": [
    "# How well do those points agree with the DEM that do not match the reference location?\n",
    "l2_poca[distance>1].h_diff.plot.hist(xlabel=\"elevation difference to DEM, meter\", bins=25);"
   ]
  }
 ],
 "metadata": {
  "kernelspec": {
   "display_name": "cryoswath",
   "language": "python",
   "name": "python3"
  },
  "language_info": {
   "codemirror_mode": {
    "name": "ipython",
    "version": 3
   },
   "file_extension": ".py",
   "mimetype": "text/x-python",
   "name": "python",
   "nbconvert_exporter": "python",
   "pygments_lexer": "ipython3",
   "version": "3.12.5"
  }
 },
 "nbformat": 4,
 "nbformat_minor": 2
}
