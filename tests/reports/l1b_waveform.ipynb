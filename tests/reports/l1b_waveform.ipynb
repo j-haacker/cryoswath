{
 "cells": [
  {
   "cell_type": "markdown",
   "metadata": {},
   "source": [
    "# test report: waveform"
   ]
  },
  {
   "cell_type": "code",
   "execution_count": null,
   "metadata": {},
   "outputs": [],
   "source": [
    "import os, sys\n",
    "sys.path.insert(0, os.path.join(\"..\", \"..\"))"
   ]
  },
  {
   "cell_type": "code",
   "execution_count": null,
   "metadata": {},
   "outputs": [],
   "source": [
    "from cryoswath import l1b"
   ]
  },
  {
   "cell_type": "code",
   "execution_count": null,
   "metadata": {},
   "outputs": [],
   "source": [
    "l1b_data = l1b.L1bData.from_id(\"20140517T225409\").append_best_fit_phase_index()"
   ]
  },
  {
   "cell_type": "code",
   "execution_count": null,
   "metadata": {},
   "outputs": [],
   "source": [
    "import cryoswath.test_plots.waveform"
   ]
  },
  {
   "cell_type": "code",
   "execution_count": null,
   "metadata": {},
   "outputs": [],
   "source": [
    "ax = cryoswath.test_plots.waveform.dem_transect(l1b_data.sel(time_20_ku=[\"2014-05-17T22:54:51.839752960\"]), selected_phase_only=False)\n",
    "ax.set_xlim([-20e3, 15e3])\n",
    "ax.set_ylim([500, 1000]);"
   ]
  },
  {
   "cell_type": "markdown",
   "metadata": {},
   "source": [
    "![reference figure](reference_figures/waveform_2014-05-17T22:54:51.839752960.png)"
   ]
  },
  {
   "cell_type": "markdown",
   "metadata": {},
   "source": [
    "Compare the two figures above. The upper was produced by the latest\n",
    "version, the lower by v0.0. If they differ, hopefully you are more\n",
    "satisfied with th upper one. If so, consider updating the reference\n",
    "figure. If not, consider improving the algorithm."
   ]
  }
 ],
 "metadata": {
  "kernelspec": {
   "display_name": "cryoswath",
   "language": "python",
   "name": "python3"
  },
  "language_info": {
   "codemirror_mode": {
    "name": "ipython",
    "version": 3
   },
   "file_extension": ".py",
   "mimetype": "text/x-python",
   "name": "python",
   "nbconvert_exporter": "python",
   "pygments_lexer": "ipython3",
   "version": "3.12.4"
  }
 },
 "nbformat": 4,
 "nbformat_minor": 2
}
